{
 "cells": [
  {
   "cell_type": "markdown",
   "metadata": {},
   "source": [
    "# 18 Appendix: Tools for Deep Learning\n",
    "\n",
    "\n",
    "In this chapter, we will walk you through major tools for deep learning, from introducing Jupyter notebook in [Section 18.1](../chapter_appendix-tools-for-deep-learning/jupyter.ipynb) to empowering you training models on Cloud such as Amazon SageMaker in [Section 18.2](../chapter_appendix-tools-for-deep-learning/sagemaker.ipynb) and Amazon EC2 in [Section 18.3](../chapter_appendix-tools-for-deep-learning/aws.ipynb). Besides, if you would like to purchase your own GPUs, we also note down some practical suggestions in [Section 18.4](../chapter_appendix-tools-for-deep-learning/selecting-servers-gpus.ipynb). If you are interested in being a contributor of this book, you may follow the instructions in [Section 18.5](../chapter_appendix-tools-for-deep-learning/contributing.ipynb).\n",
    "\n",
    ":begin_tab:toc\n",
    " - [jupyter](jupyter.ipynb)\n",
    " - [sagemaker](sagemaker.ipynb)\n",
    " - [aws](aws.ipynb)\n",
    " - [selecting-servers-gpus](selecting-servers-gpus.ipynb)\n",
    " - [contributing](contributing.ipynb)\n",
    " - [d2l](d2l.ipynb)\n",
    ":end_tab:\n"
   ]
  }
 ],
 "metadata": {
  "instance_type": "ml.g4dn.xlarge",
  "kernelspec": {
   "display_name": "d2l",
   "language": "python",
   "name": "d2l"
  },
  "language_info": {
   "name": "python"
  }
 },
 "nbformat": 4,
 "nbformat_minor": 4
}